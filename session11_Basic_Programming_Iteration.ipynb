{
  "nbformat": 4,
  "nbformat_minor": 0,
  "metadata": {
    "colab": {
      "name": "session11 Basic Programming : Iteration.ipynb",
      "provenance": [],
      "collapsed_sections": [],
      "authorship_tag": "ABX9TyNJ1DgKErA7HMNRj7vecA42",
      "include_colab_link": true
    },
    "kernelspec": {
      "name": "python3",
      "display_name": "Python 3"
    },
    "language_info": {
      "name": "python"
    }
  },
  "cells": [
    {
      "cell_type": "markdown",
      "metadata": {
        "id": "view-in-github",
        "colab_type": "text"
      },
      "source": [
        "<a href=\"https://colab.research.google.com/github/meutiars/latihan/blob/main/session11_Basic_Programming_Iteration.ipynb\" target=\"_parent\"><img src=\"https://colab.research.google.com/assets/colab-badge.svg\" alt=\"Open In Colab\"/></a>"
      ]
    },
    {
      "cell_type": "markdown",
      "metadata": {
        "id": "DtsA6sFfzlRN"
      },
      "source": [
        "#while loop"
      ]
    },
    {
      "cell_type": "code",
      "metadata": {
        "colab": {
          "base_uri": "https://localhost:8080/"
        },
        "id": "T7auJD3lzdyf",
        "outputId": "38a9a3a3-b984-4900-fff9-65cc9d583d6b"
      },
      "source": [
        "count = 0 \n",
        "print ('program dimulai')\n",
        "\n",
        "while (count < 10):\n",
        "  print ('count adalah : ', count)\n",
        "  count += 1 # count = count + 1\n",
        "\n",
        "print ('program selesai')"
      ],
      "execution_count": null,
      "outputs": [
        {
          "output_type": "stream",
          "text": [
            "program dimulai\n",
            "count adalah :  0\n",
            "count adalah :  1\n",
            "count adalah :  2\n",
            "count adalah :  3\n",
            "count adalah :  4\n",
            "count adalah :  5\n",
            "count adalah :  6\n",
            "count adalah :  7\n",
            "count adalah :  8\n",
            "count adalah :  9\n",
            "program selesai\n"
          ],
          "name": "stdout"
        }
      ]
    },
    {
      "cell_type": "code",
      "metadata": {
        "colab": {
          "base_uri": "https://localhost:8080/"
        },
        "id": "mqw8qXDe1Qdc",
        "outputId": "269ad593-e1c5-4e31-b4e2-5cf06d3651ac"
      },
      "source": [
        "count = 1 \n",
        "print ('program dimulai')\n",
        "\n",
        "while (count <= 10):\n",
        "  print ('count adalah : ', count)\n",
        "  count += 1 # count = count + 1\n",
        "\n",
        "print ('program selesai')"
      ],
      "execution_count": null,
      "outputs": [
        {
          "output_type": "stream",
          "text": [
            "program dimulai\n",
            "count adalah :  1\n",
            "count adalah :  2\n",
            "count adalah :  3\n",
            "count adalah :  4\n",
            "count adalah :  5\n",
            "count adalah :  6\n",
            "count adalah :  7\n",
            "count adalah :  8\n",
            "count adalah :  9\n",
            "count adalah :  10\n",
            "program selesai\n"
          ],
          "name": "stdout"
        }
      ]
    },
    {
      "cell_type": "code",
      "metadata": {
        "colab": {
          "base_uri": "https://localhost:8080/"
        },
        "id": "jtoXXwYZ0xXo",
        "outputId": "3b41b3c7-5144-4c2e-994f-83d79337d742"
      },
      "source": [
        "count = 1 \n",
        "print ('program dimulai')\n",
        "\n",
        "while (count <= 10):\n",
        "  print ('count adalah : ', count)\n",
        "  count += 2 # count = count + 1\n",
        "\n",
        "print ('program selesai')"
      ],
      "execution_count": null,
      "outputs": [
        {
          "output_type": "stream",
          "text": [
            "program dimulai\n",
            "count adalah :  1\n",
            "count adalah :  3\n",
            "count adalah :  5\n",
            "count adalah :  7\n",
            "count adalah :  9\n",
            "program selesai\n"
          ],
          "name": "stdout"
        }
      ]
    },
    {
      "cell_type": "code",
      "metadata": {
        "colab": {
          "base_uri": "https://localhost:8080/"
        },
        "id": "B8UjZc8K15VC",
        "outputId": "6cee9a4f-b5ca-426d-885b-eb3ca724e00b"
      },
      "source": [
        "count = 10 \n",
        "print ('program dimulai')\n",
        "\n",
        "while (count > 0):\n",
        "  print ('count adalah : ', count)\n",
        "  count -= 1 # count = count - 1\n",
        "\n",
        "print ('program selesai')"
      ],
      "execution_count": null,
      "outputs": [
        {
          "output_type": "stream",
          "text": [
            "program dimulai\n",
            "count adalah :  10\n",
            "count adalah :  9\n",
            "count adalah :  8\n",
            "count adalah :  7\n",
            "count adalah :  6\n",
            "count adalah :  5\n",
            "count adalah :  4\n",
            "count adalah :  3\n",
            "count adalah :  2\n",
            "count adalah :  1\n",
            "program selesai\n"
          ],
          "name": "stdout"
        }
      ]
    },
    {
      "cell_type": "markdown",
      "metadata": {
        "id": "9TKAWnZD4hvi"
      },
      "source": [
        "#Merubah penulisan jadi horizontal"
      ]
    },
    {
      "cell_type": "code",
      "metadata": {
        "colab": {
          "base_uri": "https://localhost:8080/"
        },
        "id": "1G5xqrLZ2bbf",
        "outputId": "3fb736c1-a8dc-418a-a1a3-81a9d1603932"
      },
      "source": [
        "print ('helo', end=' ')\n",
        "print ('world')"
      ],
      "execution_count": null,
      "outputs": [
        {
          "output_type": "stream",
          "text": [
            "helo world\n"
          ],
          "name": "stdout"
        }
      ]
    },
    {
      "cell_type": "code",
      "metadata": {
        "colab": {
          "base_uri": "https://localhost:8080/"
        },
        "id": "brxWbGJl3Ahp",
        "outputId": "2c26e9bd-aac4-4d7f-af30-0ba9ac2014d9"
      },
      "source": [
        "count = 10 \n",
        "print ('program dimulai')\n",
        "\n",
        "while (count > 0):\n",
        "  print (count, end= ' ')\n",
        "  count -= 1 # count = count - 1\n",
        "\n",
        "print (' ')\n",
        "print ('program selesai')"
      ],
      "execution_count": null,
      "outputs": [
        {
          "output_type": "stream",
          "text": [
            "program dimulai\n",
            "10 9 8 7 6 5 4 3 2 1  \n",
            "program selesai\n"
          ],
          "name": "stdout"
        }
      ]
    },
    {
      "cell_type": "markdown",
      "metadata": {
        "id": "jEMkdDLs6RqP"
      },
      "source": [
        "#For Loop"
      ]
    },
    {
      "cell_type": "code",
      "metadata": {
        "colab": {
          "base_uri": "https://localhost:8080/"
        },
        "id": "O4TZraWO4JgK",
        "outputId": "7d89d2cb-b3b4-4446-83a5-9b9fba361a15"
      },
      "source": [
        "for i in range (0, 10): \n",
        "  print ('nilai : ', i)\n",
        "  \n",
        "print('end iteration')"
      ],
      "execution_count": null,
      "outputs": [
        {
          "output_type": "stream",
          "text": [
            "nilai :  0\n",
            "nilai :  1\n",
            "nilai :  2\n",
            "nilai :  3\n",
            "nilai :  4\n",
            "nilai :  5\n",
            "nilai :  6\n",
            "nilai :  7\n",
            "nilai :  8\n",
            "nilai :  9\n",
            "end iteration\n"
          ],
          "name": "stdout"
        }
      ]
    },
    {
      "cell_type": "code",
      "metadata": {
        "colab": {
          "base_uri": "https://localhost:8080/"
        },
        "id": "TrR3qQU-4gtz",
        "outputId": "aa604587-4eab-4709-970e-1945d332a81d"
      },
      "source": [
        "for i in range (1, 20, 2):\n",
        "  print (i)\n",
        "\n",
        "print ('program selesai')"
      ],
      "execution_count": null,
      "outputs": [
        {
          "output_type": "stream",
          "text": [
            "1\n",
            "3\n",
            "5\n",
            "7\n",
            "9\n",
            "11\n",
            "13\n",
            "15\n",
            "17\n",
            "19\n",
            "program selesai\n"
          ],
          "name": "stdout"
        }
      ]
    },
    {
      "cell_type": "code",
      "metadata": {
        "colab": {
          "base_uri": "https://localhost:8080/"
        },
        "id": "hAAqmfc_5THk",
        "outputId": "4b492093-ec52-4106-9801-e738f46e9e5c"
      },
      "source": [
        "for i in range (20, 3, -2):\n",
        "  print(i)\n",
        "\n",
        "print ('Program selesai')"
      ],
      "execution_count": null,
      "outputs": [
        {
          "output_type": "stream",
          "text": [
            "20\n",
            "18\n",
            "16\n",
            "14\n",
            "12\n",
            "10\n",
            "8\n",
            "6\n",
            "4\n",
            "Program selesai\n"
          ],
          "name": "stdout"
        }
      ]
    },
    {
      "cell_type": "markdown",
      "metadata": {
        "id": "R5diQVvk6KLp"
      },
      "source": [
        "#Break Loop Statement"
      ]
    },
    {
      "cell_type": "code",
      "metadata": {
        "colab": {
          "base_uri": "https://localhost:8080/"
        },
        "id": "mZzO0cpU5_kB",
        "outputId": "5cbb966d-1789-4c4e-f696-d5f5a5355fe3"
      },
      "source": [
        "print ('using break inside for loop')\n",
        "\n",
        "num = 6 \n",
        "for h in range (1, 10):\n",
        "\n",
        "  if (h == num):\n",
        "    break \n",
        "  print (h)\n",
        "  print ('hi')\n",
        "  print ('you')\n",
        "  print ('hasil kuadrat dari ', h, 'adalah ', h**2)\n",
        "  \n",
        "print ('   ')\n",
        "print ('hasil kuadrat dari ', h, 'adalah ', h**2)\n",
        "print ('end program')"
      ],
      "execution_count": null,
      "outputs": [
        {
          "output_type": "stream",
          "text": [
            "using break inside for loop\n",
            "1\n",
            "hi\n",
            "you\n",
            "hasil kuadrat dari  1 adalah  1\n",
            "2\n",
            "hi\n",
            "you\n",
            "hasil kuadrat dari  2 adalah  4\n",
            "3\n",
            "hi\n",
            "you\n",
            "hasil kuadrat dari  3 adalah  9\n",
            "4\n",
            "hi\n",
            "you\n",
            "hasil kuadrat dari  4 adalah  16\n",
            "5\n",
            "hi\n",
            "you\n",
            "hasil kuadrat dari  5 adalah  25\n",
            "   \n",
            "hasil kuadrat dari  6 adalah  36\n",
            "end program\n"
          ],
          "name": "stdout"
        }
      ]
    },
    {
      "cell_type": "code",
      "metadata": {
        "colab": {
          "base_uri": "https://localhost:8080/"
        },
        "id": "rOwaeqnC890d",
        "outputId": "9f27b7b8-7037-4836-9599-54968cc93540"
      },
      "source": [
        "i = 1\n",
        "num = 5\n",
        "\n",
        "while (i < 10):\n",
        "  print(i)\n",
        "  if (i == num):\n",
        "    break\n",
        "\n",
        "  i += 1"
      ],
      "execution_count": null,
      "outputs": [
        {
          "output_type": "stream",
          "text": [
            "1\n",
            "2\n",
            "3\n",
            "4\n",
            "5\n"
          ],
          "name": "stdout"
        }
      ]
    },
    {
      "cell_type": "markdown",
      "metadata": {
        "id": "dA0nXGYv-W-3"
      },
      "source": [
        "#continue loop statement"
      ]
    },
    {
      "cell_type": "code",
      "metadata": {
        "colab": {
          "base_uri": "https://localhost:8080/"
        },
        "id": "rTUbu2n898Pb",
        "outputId": "dda601fb-7d02-4f06-9731-72f8c19e6a86"
      },
      "source": [
        "num = 5\n",
        " #lima ini akan di skip\n",
        "\n",
        "for i in range (0, 10):\n",
        "  if (i == num):\n",
        "    continue \n",
        "\n",
        "  print (i)\n",
        "\n",
        "print ('')\n",
        "print ('program selesai')"
      ],
      "execution_count": null,
      "outputs": [
        {
          "output_type": "stream",
          "text": [
            "0\n",
            "1\n",
            "2\n",
            "3\n",
            "4\n",
            "6\n",
            "7\n",
            "8\n",
            "9\n",
            "\n",
            "program selesai\n"
          ],
          "name": "stdout"
        }
      ]
    },
    {
      "cell_type": "code",
      "metadata": {
        "colab": {
          "base_uri": "https://localhost:8080/"
        },
        "id": "HrczX1vt_uvC",
        "outputId": "0d6ca5ac-093c-4a90-b184-f2b5aa6bcaaa"
      },
      "source": [
        "i = 10\n",
        "num = 6  #num akan di skip\n",
        "\n",
        "while (i > 0):\n",
        "  i = i - 1\n",
        "  if i == num:\n",
        "    continue \n",
        "  print (i)\n",
        "  "
      ],
      "execution_count": null,
      "outputs": [
        {
          "output_type": "stream",
          "text": [
            "9\n",
            "8\n",
            "7\n",
            "5\n",
            "4\n",
            "3\n",
            "2\n",
            "1\n",
            "0\n"
          ],
          "name": "stdout"
        }
      ]
    },
    {
      "cell_type": "markdown",
      "metadata": {
        "id": "lUWMcdU5AVJU"
      },
      "source": [
        "#for loop with else "
      ]
    },
    {
      "cell_type": "code",
      "metadata": {
        "colab": {
          "base_uri": "https://localhost:8080/"
        },
        "id": "R-rc6MyuAYIg",
        "outputId": "ee71d569-5861-49b3-e6d3-98e6819377a3"
      },
      "source": [
        "for i in range (0, 15):\n",
        "  print (i)\n",
        "\n",
        "else :\n",
        "  print ('program selesai')\n",
        "\n",
        "print ('out of block')"
      ],
      "execution_count": null,
      "outputs": [
        {
          "output_type": "stream",
          "text": [
            "0\n",
            "1\n",
            "2\n",
            "3\n",
            "4\n",
            "5\n",
            "6\n",
            "7\n",
            "8\n",
            "9\n",
            "10\n",
            "11\n",
            "12\n",
            "13\n",
            "14\n",
            "program selesai\n",
            "out of block\n"
          ],
          "name": "stdout"
        }
      ]
    },
    {
      "cell_type": "code",
      "metadata": {
        "colab": {
          "base_uri": "https://localhost:8080/"
        },
        "id": "KQNkh-6GBRKT",
        "outputId": "3362ad25-d48c-4690-e7d9-d0d80cbaa5b2"
      },
      "source": [
        "for i in range (0, 15):\n",
        "  print (i)\n",
        "  if (i == 8):\n",
        "    break  #ketika ada 'break', 'else' tidak dijalankan\n",
        "else :\n",
        "  print ('program selesai')\n",
        "\n",
        "print (' ')\n",
        "print ('out of block')"
      ],
      "execution_count": null,
      "outputs": [
        {
          "output_type": "stream",
          "text": [
            "0\n",
            "1\n",
            "2\n",
            "3\n",
            "4\n",
            "5\n",
            "6\n",
            "7\n",
            "8\n",
            " \n",
            "out of block\n"
          ],
          "name": "stdout"
        }
      ]
    },
    {
      "cell_type": "markdown",
      "metadata": {
        "id": "5ux6hEgTByP5"
      },
      "source": [
        "#nested loops"
      ]
    },
    {
      "cell_type": "code",
      "metadata": {
        "colab": {
          "base_uri": "https://localhost:8080/"
        },
        "id": "qW4rh361Bw2s",
        "outputId": "df739e07-d5f4-4fed-9936-eb32cd2248e2"
      },
      "source": [
        "for i in range (0, 10):\n",
        "  for j in range (0, 5):\n",
        "    print ('j: ', j)\n",
        "  \n",
        "  print ('i: ', i)\n",
        "  print (' ')\n"
      ],
      "execution_count": null,
      "outputs": [
        {
          "output_type": "stream",
          "text": [
            "j:  0\n",
            "j:  1\n",
            "j:  2\n",
            "j:  3\n",
            "j:  4\n",
            "i:  0\n",
            " \n",
            "j:  0\n",
            "j:  1\n",
            "j:  2\n",
            "j:  3\n",
            "j:  4\n",
            "i:  1\n",
            " \n",
            "j:  0\n",
            "j:  1\n",
            "j:  2\n",
            "j:  3\n",
            "j:  4\n",
            "i:  2\n",
            " \n",
            "j:  0\n",
            "j:  1\n",
            "j:  2\n",
            "j:  3\n",
            "j:  4\n",
            "i:  3\n",
            " \n",
            "j:  0\n",
            "j:  1\n",
            "j:  2\n",
            "j:  3\n",
            "j:  4\n",
            "i:  4\n",
            " \n",
            "j:  0\n",
            "j:  1\n",
            "j:  2\n",
            "j:  3\n",
            "j:  4\n",
            "i:  5\n",
            " \n",
            "j:  0\n",
            "j:  1\n",
            "j:  2\n",
            "j:  3\n",
            "j:  4\n",
            "i:  6\n",
            " \n",
            "j:  0\n",
            "j:  1\n",
            "j:  2\n",
            "j:  3\n",
            "j:  4\n",
            "i:  7\n",
            " \n",
            "j:  0\n",
            "j:  1\n",
            "j:  2\n",
            "j:  3\n",
            "j:  4\n",
            "i:  8\n",
            " \n",
            "j:  0\n",
            "j:  1\n",
            "j:  2\n",
            "j:  3\n",
            "j:  4\n",
            "i:  9\n",
            " \n"
          ],
          "name": "stdout"
        }
      ]
    },
    {
      "cell_type": "code",
      "metadata": {
        "colab": {
          "base_uri": "https://localhost:8080/"
        },
        "id": "K031ebNLD5W6",
        "outputId": "d6470653-2002-44dc-b450-b6ed2b7d4fb7"
      },
      "source": [
        "for i in range (0, 5):\n",
        "  for j in range (0, 3):\n",
        "    print (j)\n",
        "  \n",
        "  print ('i: ', i)\n",
        "  print (' ')\n",
        "\n",
        "print ('selesai')"
      ],
      "execution_count": null,
      "outputs": [
        {
          "output_type": "stream",
          "text": [
            "0\n",
            "1\n",
            "2\n",
            "i:  0\n",
            " \n",
            "0\n",
            "1\n",
            "2\n",
            "i:  1\n",
            " \n",
            "0\n",
            "1\n",
            "2\n",
            "i:  2\n",
            " \n",
            "0\n",
            "1\n",
            "2\n",
            "i:  3\n",
            " \n",
            "0\n",
            "1\n",
            "2\n",
            "i:  4\n",
            " \n",
            "selesai\n"
          ],
          "name": "stdout"
        }
      ]
    },
    {
      "cell_type": "code",
      "metadata": {
        "colab": {
          "base_uri": "https://localhost:8080/"
        },
        "id": "GvZzPW5tEff1",
        "outputId": "a65757c6-2cc7-4607-8af7-e5351ef02f18"
      },
      "source": [
        "for i in range (0, 5):\n",
        "  for j in range (0, 3):\n",
        "    print (i,',', j, end='   ')\n",
        "  \n",
        "  print ('i:', i)\n",
        "  print (' ')\n",
        "\n",
        "print ('selesai')"
      ],
      "execution_count": null,
      "outputs": [
        {
          "output_type": "stream",
          "text": [
            "0 , 0   0 , 1   0 , 2   i: 0\n",
            " \n",
            "1 , 0   1 , 1   1 , 2   i: 1\n",
            " \n",
            "2 , 0   2 , 1   2 , 2   i: 2\n",
            " \n",
            "3 , 0   3 , 1   3 , 2   i: 3\n",
            " \n",
            "4 , 0   4 , 1   4 , 2   i: 4\n",
            " \n",
            "selesai\n"
          ],
          "name": "stdout"
        }
      ]
    },
    {
      "cell_type": "markdown",
      "metadata": {
        "id": "2dOeQFj6FyWA"
      },
      "source": [
        "#casting"
      ]
    },
    {
      "cell_type": "code",
      "metadata": {
        "colab": {
          "base_uri": "https://localhost:8080/"
        },
        "id": "JyboZtRBGmV2",
        "outputId": "4e9120d2-73de-48eb-eaa8-e5c463ecf0a9"
      },
      "source": [
        "var1 = 'helo python'\n",
        "var2 = var1.capitalize()\n",
        "print (var2)\n",
        "print ('  ')\n",
        "\n",
        "\n",
        "var3 = 'hello python.python is fun'\n",
        "var4 = var3.count('python')\n",
        "print (var4)\n",
        "print ('  ')\n",
        "\n",
        "var5 = 'helo'\n",
        "var6 = var5.isnumeric()\n",
        "print (var6)\n",
        "print('  ')\n",
        "\n",
        "var7 = 'HELLO PYTHON'\n",
        "var8 = var7.lower()\n",
        "print(var8)\n",
        "print('  ')\n",
        "\n",
        "var9 = 'hello python. hello you.'\n",
        "var10 = var9.split(' ')\n",
        "print(var10)\n",
        "print(var10 [3])"
      ],
      "execution_count": null,
      "outputs": [
        {
          "output_type": "stream",
          "text": [
            "Helo python\n",
            "  \n",
            "2\n",
            "  \n",
            "False\n",
            "  \n",
            "hello python\n",
            "  \n",
            "['hello', 'python.', 'hello', 'you.']\n",
            "you.\n"
          ],
          "name": "stdout"
        }
      ]
    },
    {
      "cell_type": "markdown",
      "metadata": {
        "id": "Ekt0Zjv1IyOz"
      },
      "source": [
        "#try except"
      ]
    },
    {
      "cell_type": "code",
      "metadata": {
        "colab": {
          "base_uri": "https://localhost:8080/"
        },
        "id": "7MyRTZuDIw1Y",
        "outputId": "99156afa-92b1-4787-d25e-e67fdb54efca"
      },
      "source": [
        "try:\n",
        "  print (x)\n",
        "except:\n",
        "  print ('Something went wrong')\n",
        "finally:\n",
        "  print(\"The 'try except' is finished\")"
      ],
      "execution_count": null,
      "outputs": [
        {
          "output_type": "stream",
          "text": [
            "Something went wrong\n",
            "The 'try except' is finished\n"
          ],
          "name": "stdout"
        }
      ]
    },
    {
      "cell_type": "code",
      "metadata": {
        "colab": {
          "base_uri": "https://localhost:8080/"
        },
        "id": "erBZLrmyJgiv",
        "outputId": "d5fc364b-de21-4e8f-bd08-4bb55ed06a88"
      },
      "source": [
        "var1 = input('masukan angka: ')\n",
        "\n",
        "try:\n",
        "  var2 = float(var1)\n",
        "  print(var2)\n",
        "\n",
        "except:\n",
        "  print('silahkan masukan angka. Coba sekali lagi')"
      ],
      "execution_count": null,
      "outputs": [
        {
          "output_type": "stream",
          "text": [
            "masukan angka: hai\n",
            "silahkan masukan angka. Coba sekali lagi\n"
          ],
          "name": "stdout"
        }
      ]
    },
    {
      "cell_type": "code",
      "metadata": {
        "colab": {
          "base_uri": "https://localhost:8080/"
        },
        "id": "EofHR8vBNTdY",
        "outputId": "1eed5e28-8170-4831-e75d-bb4925c832ff"
      },
      "source": [
        "var1 = input('masukan angka: ')\n",
        "\n",
        "try:\n",
        "  var2 = float(var1)\n",
        "  print(var2)\n",
        "\n",
        "except:\n",
        "  print('silahkan masukan angka. Coba sekali lagi')\n",
        "\n",
        "finally:\n",
        "  print('sukses')"
      ],
      "execution_count": null,
      "outputs": [
        {
          "output_type": "stream",
          "text": [
            "masukan angka: 7\n",
            "7.0\n",
            "sukses\n"
          ],
          "name": "stdout"
        }
      ]
    },
    {
      "cell_type": "code",
      "metadata": {
        "colab": {
          "base_uri": "https://localhost:8080/"
        },
        "id": "jOZVBo4hLRWx",
        "outputId": "3103b37a-b49d-4c36-fe4a-4b96353b6f0f"
      },
      "source": [
        "var1 = input('masukan angka: ')\n",
        "\n",
        "if not (var1.isnumeric()):\n",
        "  print ('Silahkan masukan angka')\n",
        "\n",
        "print('Program selesai')"
      ],
      "execution_count": null,
      "outputs": [
        {
          "output_type": "stream",
          "text": [
            "masukan angka: hello\n",
            "Silahkan masukan angka\n",
            "Program selesai\n"
          ],
          "name": "stdout"
        }
      ]
    },
    {
      "cell_type": "code",
      "metadata": {
        "colab": {
          "base_uri": "https://localhost:8080/"
        },
        "id": "SVimJVvML0zB",
        "outputId": "579d1b83-9265-48f2-d6c1-a9923d05b231"
      },
      "source": [
        "var1 = input('masukan angka: ')\n",
        "\n",
        "if not (var1.isnumeric()):\n",
        "  print ('Silahkan masukan angka')\n",
        "else :\n",
        "  var2 = float(var1)\n",
        "  print(var2**2)\n",
        "  \n",
        "print('Program selesai')"
      ],
      "execution_count": null,
      "outputs": [
        {
          "output_type": "stream",
          "text": [
            "masukan angka: hello\n",
            "Silahkan masukan angka\n",
            "Program selesai\n"
          ],
          "name": "stdout"
        }
      ]
    }
  ]
}