{
  "nbformat": 4,
  "nbformat_minor": 0,
  "metadata": {
    "colab": {
      "name": "Session 12 Basic Programming : Array and other Data Types.ipynb",
      "provenance": [],
      "collapsed_sections": [],
      "authorship_tag": "ABX9TyMVlZK35o0ZhAKroq0cxp5j",
      "include_colab_link": true
    },
    "kernelspec": {
      "name": "python3",
      "display_name": "Python 3"
    },
    "language_info": {
      "name": "python"
    }
  },
  "cells": [
    {
      "cell_type": "markdown",
      "metadata": {
        "id": "view-in-github",
        "colab_type": "text"
      },
      "source": [
        "<a href=\"https://colab.research.google.com/github/meutiars/latihan/blob/main/Session_12_Basic_Programming_Array_and_other_Data_Types.ipynb\" target=\"_parent\"><img src=\"https://colab.research.google.com/assets/colab-badge.svg\" alt=\"Open In Colab\"/></a>"
      ]
    },
    {
      "cell_type": "markdown",
      "metadata": {
        "id": "3SxeewMPIJpf"
      },
      "source": [
        "#List"
      ]
    },
    {
      "cell_type": "code",
      "metadata": {
        "colab": {
          "base_uri": "https://localhost:8080/"
        },
        "id": "hze3l9HpIGCk",
        "outputId": "c83686a4-4454-49a1-f0d5-15c14b76effc"
      },
      "source": [
        "list1 = ['mia', 'hilman', 'bella', 'vino']\n",
        "list2 = [3.14, True, 8, 'Hello', 'World']\n",
        "\n",
        "print (list1)\n",
        "print (list1[2])\n",
        "print(list1[1:])    #dari index 1 sampe selesai\n",
        "print(list2 [-2])  #dari belakang\n",
        "print (list2[0])\n",
        "print (list2[-1])"
      ],
      "execution_count": null,
      "outputs": [
        {
          "output_type": "stream",
          "text": [
            "['mia', 'hilman', 'bella', 'vino']\n",
            "bella\n",
            "['hilman', 'bella', 'vino']\n",
            "Hello\n",
            "3.14\n",
            "World\n"
          ],
          "name": "stdout"
        }
      ]
    },
    {
      "cell_type": "code",
      "metadata": {
        "colab": {
          "base_uri": "https://localhost:8080/"
        },
        "id": "Wq0vJQ_1JrZq",
        "outputId": "86816460-ec06-4fc4-e076-e22e1a582285"
      },
      "source": [
        "list4 = ['apple', 'cherry', 'apple', 'manggo']\n",
        "\n",
        "print(list4)  #tidak masalah kalau ada duplikat data, bisa tetap ditampilkan\n"
      ],
      "execution_count": null,
      "outputs": [
        {
          "output_type": "stream",
          "text": [
            "['apple', 'cherry', 'apple', 'manggo']\n"
          ],
          "name": "stdout"
        }
      ]
    },
    {
      "cell_type": "code",
      "metadata": {
        "colab": {
          "base_uri": "https://localhost:8080/"
        },
        "id": "0-aYwrMeKdiy",
        "outputId": "8e5f7fc3-8ff8-4fbb-b18a-686397eaef3c"
      },
      "source": [
        "list1 = ['mia', 'hilman', 'bella', 'vino']\n",
        "list2 = [3.14, True, 8, 'Hello', 'World']\n",
        "\n",
        "\n",
        "for i in list1:\n",
        "  print(i)\n",
        "\n",
        "print('------')\n",
        "\n",
        "for j in list2:\n",
        "  print(j)\n",
        "print(j, end =' ')"
      ],
      "execution_count": null,
      "outputs": [
        {
          "output_type": "stream",
          "text": [
            "mia\n",
            "hilman\n",
            "bella\n",
            "vino\n",
            "------\n",
            "3.14\n",
            "True\n",
            "8\n",
            "Hello\n",
            "World\n",
            "World  "
          ],
          "name": "stdout"
        }
      ]
    },
    {
      "cell_type": "code",
      "metadata": {
        "colab": {
          "base_uri": "https://localhost:8080/"
        },
        "id": "vk_M0YZ8LZpD",
        "outputId": "6d742b4d-ef21-4032-aca2-d4083d62e87a"
      },
      "source": [
        "list1 = ['mia', 'hilman', 'bella', 'vino']\n",
        "list2 = [3.14, True, 8, 'Hello', 'World']\n",
        "\n",
        "for i in range(4):\n",
        "  print (list1[i])"
      ],
      "execution_count": null,
      "outputs": [
        {
          "output_type": "stream",
          "text": [
            "mia\n",
            "hilman\n",
            "bella\n",
            "vino\n"
          ],
          "name": "stdout"
        }
      ]
    },
    {
      "cell_type": "code",
      "metadata": {
        "colab": {
          "base_uri": "https://localhost:8080/"
        },
        "id": "EbjTcuj6LykW",
        "outputId": "8f18bcc6-69f1-4f4d-e042-a4106416b1d7"
      },
      "source": [
        "list1 = ['mia', 'hilman', 'bella', 'vino']\n",
        "list2 = [3.14, True, 8, 'Hello', 'World']\n",
        "\n",
        "print(len(list1))\n",
        "\n",
        "for i in range(4):\n",
        "  print (list1[i])\n",
        "\n",
        "print('------')\n",
        "\n",
        "for j in range(len(list2)):\n",
        "  print (list2[j])\n"
      ],
      "execution_count": null,
      "outputs": [
        {
          "output_type": "stream",
          "text": [
            "4\n",
            "mia\n",
            "hilman\n",
            "bella\n",
            "vino\n",
            "------\n",
            "3.14\n",
            "True\n",
            "8\n",
            "Hello\n",
            "World\n"
          ],
          "name": "stdout"
        }
      ]
    },
    {
      "cell_type": "markdown",
      "metadata": {
        "id": "1BQ0XxFIMVPD"
      },
      "source": [
        "#constructor"
      ]
    },
    {
      "cell_type": "code",
      "metadata": {
        "colab": {
          "base_uri": "https://localhost:8080/"
        },
        "id": "z7AA9K-YMbFd",
        "outputId": "7eb84afe-5756-4efe-ba3d-9bafbc48c4fb"
      },
      "source": [
        "t = (1, 2, 3, 4, 5)\n",
        "print (t)\n",
        "\n",
        "u = list(t)\n",
        "print (u)"
      ],
      "execution_count": null,
      "outputs": [
        {
          "output_type": "stream",
          "text": [
            "(1, 2, 3, 4, 5)\n",
            "[1, 2, 3, 4, 5]\n"
          ],
          "name": "stdout"
        }
      ]
    },
    {
      "cell_type": "markdown",
      "metadata": {
        "id": "-wcAzGVkMzUG"
      },
      "source": [
        "#Nested List"
      ]
    },
    {
      "cell_type": "code",
      "metadata": {
        "colab": {
          "base_uri": "https://localhost:8080/"
        },
        "id": "Dh399xIdM1vh",
        "outputId": "f4a1b8d7-4a83-472d-d379-f425a2842a5b"
      },
      "source": [
        "list1 = ['mia', 'hilman', 'bella', 'vino']\n",
        "list2 = [3.14, True, 8, 'Hello', 'World']\n",
        "\n",
        "list3 = ['python', list1, 'SQL', list2] #menggabungkan list sebelumnya ke dalam list baru \n",
        "\n",
        "print(list3)\n",
        "\n",
        "print(list3[3][4])\n",
        "\n",
        "print ('---------')\n",
        "\n",
        "for i in (list3):\n",
        "  print (i)"
      ],
      "execution_count": null,
      "outputs": [
        {
          "output_type": "stream",
          "text": [
            "['python', ['mia', 'hilman', 'bella', 'vino'], 'SQL', [3.14, True, 8, 'Hello', 'World']]\n",
            "World\n",
            "---------\n",
            "python\n",
            "['mia', 'hilman', 'bella', 'vino']\n",
            "SQL\n",
            "[3.14, True, 8, 'Hello', 'World']\n"
          ],
          "name": "stdout"
        }
      ]
    },
    {
      "cell_type": "markdown",
      "metadata": {
        "id": "4JuhCLx5O_DD"
      },
      "source": [
        "#Checking in List"
      ]
    },
    {
      "cell_type": "code",
      "metadata": {
        "colab": {
          "base_uri": "https://localhost:8080/"
        },
        "id": "rzbwOUv0PCZa",
        "outputId": "f17edaf5-8d28-40cd-9c4d-26c8a8d293de"
      },
      "source": [
        "list1 = ['mia', 'hilman', 'bella', 'vino']\n",
        "\n",
        "if 'andi' in list1: \n",
        "  print('ada')\n",
        "else :\n",
        "  print ('tidak ada')\n"
      ],
      "execution_count": null,
      "outputs": [
        {
          "output_type": "stream",
          "text": [
            "tidak ada\n"
          ],
          "name": "stdout"
        }
      ]
    },
    {
      "cell_type": "code",
      "metadata": {
        "colab": {
          "base_uri": "https://localhost:8080/"
        },
        "id": "fLqhuHb6PcTO",
        "outputId": "39a12c9b-d4de-461a-be69-8b7a8d23aed0"
      },
      "source": [
        "list1 = ['mia', 'hilman', 'bella', 'vino']\n",
        "\n",
        "if 'andi' not in list1: \n",
        "  print('betul')\n",
        "else :\n",
        "  print ('salah')"
      ],
      "execution_count": null,
      "outputs": [
        {
          "output_type": "stream",
          "text": [
            "betul\n"
          ],
          "name": "stdout"
        }
      ]
    },
    {
      "cell_type": "markdown",
      "metadata": {
        "id": "PplUctrJPswv"
      },
      "source": [
        "#Manipulation in List"
      ]
    },
    {
      "cell_type": "code",
      "metadata": {
        "colab": {
          "base_uri": "https://localhost:8080/"
        },
        "id": "m_fEINBpPv-v",
        "outputId": "1a6a47ff-02ec-4f57-dfc4-e7ac95026a51"
      },
      "source": [
        "list1 = ['mia', 'hilman', 'bella', 'vino']\n",
        "list1.append('maya') \n",
        "\n",
        "print (list1)"
      ],
      "execution_count": null,
      "outputs": [
        {
          "output_type": "stream",
          "text": [
            "['mia', 'hilman', 'bella', 'vino', 'maya']\n"
          ],
          "name": "stdout"
        }
      ]
    },
    {
      "cell_type": "code",
      "metadata": {
        "colab": {
          "base_uri": "https://localhost:8080/"
        },
        "id": "0g-4s8ayQAwE",
        "outputId": "d8a1ad7f-5951-45ed-ccfa-db97aa20b2ec"
      },
      "source": [
        "list1 = ['mia', 'hilman', 'bella', 'vino']\n",
        "list1.insert(1,'maya')  #memasukan sesuai index yang kita mau\n",
        "\n",
        "\n",
        "print(list1) "
      ],
      "execution_count": null,
      "outputs": [
        {
          "output_type": "stream",
          "text": [
            "['mia', 'maya', 'hilman', 'bella', 'vino']\n"
          ],
          "name": "stdout"
        }
      ]
    },
    {
      "cell_type": "code",
      "metadata": {
        "colab": {
          "base_uri": "https://localhost:8080/"
        },
        "id": "SJVxsBP5QV7c",
        "outputId": "66fbe51c-0cbc-4754-872d-e7a22dd697ae"
      },
      "source": [
        "list1 = ['mia', 'hilman', 'bella', 'vino']\n",
        "print(list1)\n",
        "\n",
        "\n",
        "list1 = ['mia', 'hilman', 'bella', 'vino']\n",
        "list1.remove('bella')\n",
        "\n",
        "print(list1)\n",
        "\n",
        "list1.pop(0)\n",
        "print (list1)"
      ],
      "execution_count": null,
      "outputs": [
        {
          "output_type": "stream",
          "text": [
            "['mia', 'hilman', 'bella', 'vino']\n",
            "['mia', 'hilman', 'vino']\n",
            "['hilman', 'vino']\n"
          ],
          "name": "stdout"
        }
      ]
    },
    {
      "cell_type": "code",
      "metadata": {
        "colab": {
          "base_uri": "https://localhost:8080/"
        },
        "id": "vzRVYyOvRKO7",
        "outputId": "d28bff6e-dacf-487e-8262-a301691e4273"
      },
      "source": [
        "list1 = ['mia', 'hilman', 'bella', 'vino']\n",
        "print(list1)   \n",
        "\n",
        "list1[2] = 'sara'  #untuk update list\n",
        "print(list1)"
      ],
      "execution_count": null,
      "outputs": [
        {
          "output_type": "stream",
          "text": [
            "['mia', 'hilman', 'bella', 'vino']\n",
            "['mia', 'hilman', 'sara', 'vino']\n"
          ],
          "name": "stdout"
        }
      ]
    },
    {
      "cell_type": "markdown",
      "metadata": {
        "id": "ZakPIGe-Rkmn"
      },
      "source": [
        "#concatenation"
      ]
    },
    {
      "cell_type": "code",
      "metadata": {
        "colab": {
          "base_uri": "https://localhost:8080/"
        },
        "id": "7ujTt433RnPi",
        "outputId": "58f566bc-dbfa-436a-faf9-ba01f558841f"
      },
      "source": [
        "list1 = ['mia', 'hilman', 'bella', 'vino']\n",
        "list2 = [3.14, True, 8, 'Hello', 'World']\n",
        "\n",
        "list3 = list1 + list2\n",
        "print (list3)\n",
        "\n",
        "print('--------------------------------------')\n",
        "\n",
        "list1.extend(list2)\n",
        "print(list1)\n"
      ],
      "execution_count": null,
      "outputs": [
        {
          "output_type": "stream",
          "text": [
            "['mia', 'hilman', 'bella', 'vino', 3.14, True, 8, 'Hello', 'World']\n",
            "--------------------------------------\n",
            "['mia', 'hilman', 'bella', 'vino', 3.14, True, 8, 'Hello', 'World']\n"
          ],
          "name": "stdout"
        }
      ]
    },
    {
      "cell_type": "markdown",
      "metadata": {
        "id": "PpU1TahESSHb"
      },
      "source": [
        "#others"
      ]
    },
    {
      "cell_type": "code",
      "metadata": {
        "colab": {
          "base_uri": "https://localhost:8080/"
        },
        "id": "TSM8u-d0SRFJ",
        "outputId": "6c855506-3bdb-44d2-feb0-57bb8fe34dd5"
      },
      "source": [
        "list1 = ['mia', 'hilman', 'bella', 'vino', 'mia', 'vino']\n",
        "\n",
        "print(list1.count('vino'))\n",
        "\n",
        "print(list1.index('vino'))\n",
        "print(list1.index('mia'))\n",
        "\n",
        "list1.reverse()\n",
        "print(list1)"
      ],
      "execution_count": null,
      "outputs": [
        {
          "output_type": "stream",
          "text": [
            "2\n",
            "3\n",
            "0\n",
            "['vino', 'mia', 'vino', 'bella', 'hilman', 'mia']\n"
          ],
          "name": "stdout"
        }
      ]
    },
    {
      "cell_type": "code",
      "metadata": {
        "colab": {
          "base_uri": "https://localhost:8080/"
        },
        "id": "umDrUWDZS9pf",
        "outputId": "73dd8944-0ec1-48a6-889d-c40c620e126b"
      },
      "source": [
        "list1 = ['mia', 'hilman', 'bella', 'vino', 'mia', 'vino']\n",
        "list1.sort()\n",
        "\n",
        "print(list1)\n"
      ],
      "execution_count": null,
      "outputs": [
        {
          "output_type": "stream",
          "text": [
            "['bella', 'hilman', 'mia', 'mia', 'vino', 'vino']\n"
          ],
          "name": "stdout"
        }
      ]
    },
    {
      "cell_type": "code",
      "metadata": {
        "colab": {
          "base_uri": "https://localhost:8080/"
        },
        "id": "6MAbnK8aTMfV",
        "outputId": "bde04cd4-0de8-48d1-b313-3a1a2eb33ae9"
      },
      "source": [
        "list1 = ['mia', 'hilman', 'bella', 'vino', 'mia', 'vino']\n",
        "\n",
        "list1.remove('vino')\n",
        "print(list1)\n",
        "\n"
      ],
      "execution_count": null,
      "outputs": [
        {
          "output_type": "stream",
          "text": [
            "['mia', 'hilman', 'bella', 'mia', 'vino']\n"
          ],
          "name": "stdout"
        }
      ]
    },
    {
      "cell_type": "markdown",
      "metadata": {
        "id": "lu1NXuLMUhwl"
      },
      "source": [
        "#Tuple"
      ]
    },
    {
      "cell_type": "code",
      "metadata": {
        "colab": {
          "base_uri": "https://localhost:8080/"
        },
        "id": "5IS0T8NRUlfU",
        "outputId": "413b485b-b55e-4006-8c34-8519156ab6cf"
      },
      "source": [
        "t1 = (1, 2, 3, 4, 5)\n",
        "\n",
        "print(t)\n",
        "print(' ')\n",
        "\n",
        "t2 = ('mia', 'hilman', 'bella', 'vino')\n",
        "\n",
        "print(t2)\n",
        "\n",
        "for i in t2:\n",
        "  print(i)\n",
        "\n"
      ],
      "execution_count": null,
      "outputs": [
        {
          "output_type": "stream",
          "text": [
            "(1, 2, 3, 4, 5)\n",
            " \n",
            "('mia', 'hilman', 'bella', 'vino')\n",
            "mia\n",
            "hilman\n",
            "bella\n",
            "vino\n"
          ],
          "name": "stdout"
        }
      ]
    },
    {
      "cell_type": "code",
      "metadata": {
        "colab": {
          "base_uri": "https://localhost:8080/"
        },
        "id": "uT1RC6RmVe1f",
        "outputId": "88a4960c-fcaf-4888-f86c-660300fca217"
      },
      "source": [
        "list1 = [1, 2, 3, 4, 5]\n",
        "t1 = tuple(list1) #memaksa list menjadi tuple \n",
        "print(t1)"
      ],
      "execution_count": null,
      "outputs": [
        {
          "output_type": "stream",
          "text": [
            "(1, 2, 3, 4, 5)\n"
          ],
          "name": "stdout"
        }
      ]
    },
    {
      "cell_type": "markdown",
      "metadata": {
        "id": "dqsLXOSjVvsh"
      },
      "source": [
        "#Set"
      ]
    },
    {
      "cell_type": "code",
      "metadata": {
        "colab": {
          "base_uri": "https://localhost:8080/"
        },
        "id": "Q--cKTPfVxE5",
        "outputId": "63ec87d6-543f-482a-dc72-11ee28629408"
      },
      "source": [
        "s1 = {'mia', 'hilman', 'bella', 'vino'}\n",
        "print(s1)\n",
        "print('   ')  #untuk set ini tidak ber-index\n",
        "for i in s1:\n",
        "  print (i)"
      ],
      "execution_count": null,
      "outputs": [
        {
          "output_type": "stream",
          "text": [
            "{'bella', 'mia', 'hilman', 'vino'}\n",
            "   \n",
            "bella\n",
            "mia\n",
            "hilman\n",
            "vino\n"
          ],
          "name": "stdout"
        }
      ]
    },
    {
      "cell_type": "code",
      "metadata": {
        "colab": {
          "base_uri": "https://localhost:8080/"
        },
        "id": "g6UuB71VWoFb",
        "outputId": "69413214-142d-4371-8d61-d3d49211eec6"
      },
      "source": [
        "s1 = {'mia', 'hilman', 'bella', 'vino'}\n",
        "print(s1)\n",
        "\n",
        "s1.add('johan')\n",
        "print(s1)"
      ],
      "execution_count": null,
      "outputs": [
        {
          "output_type": "stream",
          "text": [
            "{'bella', 'mia', 'hilman', 'vino'}\n",
            "{'johan', 'hilman', 'bella', 'vino', 'mia'}\n"
          ],
          "name": "stdout"
        }
      ]
    },
    {
      "cell_type": "code",
      "metadata": {
        "colab": {
          "base_uri": "https://localhost:8080/"
        },
        "id": "cqra1MayW6II",
        "outputId": "fdaae70c-84fa-4e7a-d37d-1c10926d76fc"
      },
      "source": [
        "s1 = {'mia', 'hilman', 'bella', 'vino'}\n",
        "print(s1)\n",
        "\n",
        "s1.update({'johan', 'shopia', 'joe'})\n",
        "print(s1)"
      ],
      "execution_count": null,
      "outputs": [
        {
          "output_type": "stream",
          "text": [
            "{'bella', 'mia', 'hilman', 'vino'}\n",
            "{'bella', 'vino', 'johan', 'joe', 'mia', 'hilman', 'shopia'}\n"
          ],
          "name": "stdout"
        }
      ]
    },
    {
      "cell_type": "code",
      "metadata": {
        "colab": {
          "base_uri": "https://localhost:8080/"
        },
        "id": "pFMkZUS8XUvM",
        "outputId": "a8442419-2889-42d9-8ffb-a4c22b060282"
      },
      "source": [
        "s1 = {'mia', 'hilman', 'bella', 'vino'}\n",
        "\n",
        "print(len(s1))"
      ],
      "execution_count": null,
      "outputs": [
        {
          "output_type": "stream",
          "text": [
            "4\n"
          ],
          "name": "stdout"
        }
      ]
    },
    {
      "cell_type": "code",
      "metadata": {
        "colab": {
          "base_uri": "https://localhost:8080/"
        },
        "id": "Y-HIiJXtXcN2",
        "outputId": "9c5a464b-5e87-4e15-eb67-e3dc2faf52bb"
      },
      "source": [
        "s1 = ['mia', 'hilman', 'bella', 'vino']\n",
        "print(s1)\n",
        "\n",
        "print('    ')\n",
        "\n",
        "s2 = set(s1)\n",
        "print(s2)"
      ],
      "execution_count": null,
      "outputs": [
        {
          "output_type": "stream",
          "text": [
            "['mia', 'hilman', 'bella', 'vino']\n",
            "    \n",
            "{'bella', 'mia', 'hilman', 'vino'}\n"
          ],
          "name": "stdout"
        }
      ]
    },
    {
      "cell_type": "code",
      "metadata": {
        "colab": {
          "base_uri": "https://localhost:8080/"
        },
        "id": "GqN3as0yXwOu",
        "outputId": "91fb783e-26ec-4212-e98b-a11c3862732f"
      },
      "source": [
        "s1 = {'mia', 'hilman', 'bella', 'vino', 'hilman'} \n",
        "\n",
        "print(s1)  #tidak bisa duplikat, data tetep ditampilkan satu saja"
      ],
      "execution_count": null,
      "outputs": [
        {
          "output_type": "stream",
          "text": [
            "{'bella', 'mia', 'hilman', 'vino'}\n"
          ],
          "name": "stdout"
        }
      ]
    },
    {
      "cell_type": "code",
      "metadata": {
        "colab": {
          "base_uri": "https://localhost:8080/"
        },
        "id": "rUT0MBpPX7_N",
        "outputId": "89b0881a-ce69-4937-bc1c-e24a5b00580d"
      },
      "source": [
        "s1 = {'mia', 'hilman', 'bella', 'vino', 'hilman'} \n",
        "\n",
        "s1.clear()\n",
        "print(s1)"
      ],
      "execution_count": null,
      "outputs": [
        {
          "output_type": "stream",
          "text": [
            "set()\n"
          ],
          "name": "stdout"
        }
      ]
    },
    {
      "cell_type": "code",
      "metadata": {
        "colab": {
          "base_uri": "https://localhost:8080/"
        },
        "id": "5JWuo7S-YRVZ",
        "outputId": "b0ceb11f-4b13-4aec-a432-dec67874f513"
      },
      "source": [
        "s1 = {'mia', 'hilman', 'bella', 'vino', 'hilman'} \n",
        "s2 =  {'mia', 'hilman', 'shopie', 'vino', 'hilman'} \n",
        "s3 = s1.difference(s2)\n",
        "\n",
        "print(s3)"
      ],
      "execution_count": null,
      "outputs": [
        {
          "output_type": "stream",
          "text": [
            "{'bella'}\n"
          ],
          "name": "stdout"
        }
      ]
    },
    {
      "cell_type": "markdown",
      "metadata": {
        "id": "3ImcQgY9ZMc6"
      },
      "source": [
        "#Dictionaries"
      ]
    },
    {
      "cell_type": "code",
      "metadata": {
        "colab": {
          "base_uri": "https://localhost:8080/"
        },
        "id": "UxI23US6ZLk4",
        "outputId": "c984c0b8-3508-4278-9612-bd05b21de76e"
      },
      "source": [
        "cities = {'Indonesia' : 'Jakarta',\n",
        "          'Thailand' : 'Bangkok',\n",
        "          'Malaysia' : 'Kuala Lumpur',\n",
        "          'Vietnam' : 'Hanoi'\n",
        "          }\n",
        "print (cities)\n",
        "\n",
        "print('   ')\n",
        "print(cities['Vietnam'])\n",
        "print(cities['Indonesia'])\n",
        "\n",
        "print('  ')\n",
        "print(cities.get('Thailand'))\n",
        "print(cities.get('Malaysia'))\n",
        "\n",
        "print('   ')\n",
        "for i in cities:\n",
        "  print (i)\n",
        "\n",
        "print('  ')\n",
        "for i in cities:\n",
        "  print (cities[i])\n",
        "\n",
        "print('  ')\n",
        "for i in cities:\n",
        "  print(i, ':', cities[i])\n"
      ],
      "execution_count": null,
      "outputs": [
        {
          "output_type": "stream",
          "text": [
            "{'Indonesia': 'Jakarta', 'Thailand': 'Bangkok', 'Malaysia': 'Kuala Lumpur', 'Vietnam': 'Hanoi'}\n",
            "   \n",
            "Hanoi\n",
            "Jakarta\n",
            "  \n",
            "Bangkok\n",
            "Kuala Lumpur\n",
            "   \n",
            "Indonesia\n",
            "Thailand\n",
            "Malaysia\n",
            "Vietnam\n",
            "  \n",
            "Jakarta\n",
            "Bangkok\n",
            "Kuala Lumpur\n",
            "Hanoi\n",
            "  \n",
            "Indonesia : Jakarta\n",
            "Thailand : Bangkok\n",
            "Malaysia : Kuala Lumpur\n",
            "Vietnam : Hanoi\n"
          ],
          "name": "stdout"
        }
      ]
    },
    {
      "cell_type": "code",
      "metadata": {
        "colab": {
          "base_uri": "https://localhost:8080/"
        },
        "id": "YD_L7FIddKt-",
        "outputId": "cdb4e99c-3cd5-4148-9d3b-e9ed8897829a"
      },
      "source": [
        "cities = {'Indonesia' : 'Jakarta',\n",
        "          'Thailand' : 'Bangkok',\n",
        "          'Malaysia' : 'Kuala Lumpur',\n",
        "          'Vietnam' : 'Hanoi'\n",
        "          }\n",
        "print (cities.keys())\n",
        "print (cities.values())\n",
        "print (cities.items())"
      ],
      "execution_count": null,
      "outputs": [
        {
          "output_type": "stream",
          "text": [
            "dict_keys(['Indonesia', 'Thailand', 'Malaysia', 'Vietnam'])\n",
            "dict_values(['Jakarta', 'Bangkok', 'Kuala Lumpur', 'Hanoi'])\n",
            "dict_items([('Indonesia', 'Jakarta'), ('Thailand', 'Bangkok'), ('Malaysia', 'Kuala Lumpur'), ('Vietnam', 'Hanoi')])\n"
          ],
          "name": "stdout"
        }
      ]
    },
    {
      "cell_type": "code",
      "metadata": {
        "colab": {
          "base_uri": "https://localhost:8080/"
        },
        "id": "FP2PPXgddrfr",
        "outputId": "a6a882ec-ee46-4877-de59-d47c903b886c"
      },
      "source": [
        "cities = {'Indonesia' : 'Jakarta',\n",
        "          'Thailand' : 'Bangkok',\n",
        "          'Malaysia' : 'Kuala Lumpur',\n",
        "          'Vietnam' : 'Hanoi'\n",
        "          }\n",
        "\n",
        "cities['Korea'] = 'Seoul' #add\n",
        "print(cities)\n",
        "\n",
        "cities['Indonesia'] = 'Surabaya' #update\n",
        "print(cities)"
      ],
      "execution_count": null,
      "outputs": [
        {
          "output_type": "stream",
          "text": [
            "{'Indonesia': 'Jakarta', 'Thailand': 'Bangkok', 'Malaysia': 'Kuala Lumpur', 'Vietnam': 'Hanoi', 'Korea': 'Seoul'}\n",
            "{'Indonesia': 'Surabaya', 'Thailand': 'Bangkok', 'Malaysia': 'Kuala Lumpur', 'Vietnam': 'Hanoi', 'Korea': 'Seoul'}\n"
          ],
          "name": "stdout"
        }
      ]
    },
    {
      "cell_type": "code",
      "metadata": {
        "colab": {
          "base_uri": "https://localhost:8080/"
        },
        "id": "wgs5skCseSIq",
        "outputId": "44f0be1f-8007-475d-c2d7-e3ddd24a4a23"
      },
      "source": [
        "cities = {'Indonesia' : 'Jakarta',\n",
        "          'Thailand' : 'Bangkok',\n",
        "          'Malaysia' : 'Kuala Lumpur',\n",
        "          'Vietnam' : 'Hanoi'\n",
        "          }\n",
        "\n",
        "cities.pop('Vietnam') #untuk menghapus\n",
        "print(cities)"
      ],
      "execution_count": null,
      "outputs": [
        {
          "output_type": "stream",
          "text": [
            "{'Indonesia': 'Jakarta', 'Thailand': 'Bangkok', 'Malaysia': 'Kuala Lumpur'}\n"
          ],
          "name": "stdout"
        }
      ]
    },
    {
      "cell_type": "code",
      "metadata": {
        "colab": {
          "base_uri": "https://localhost:8080/"
        },
        "id": "GBnYFxweejMx",
        "outputId": "40e966ec-6cd4-4316-e1b4-14aa49ee6a39"
      },
      "source": [
        "cities = {'Indonesia' : 'Jakarta', #value lama\n",
        "          'Thailand' : 'Bangkok',\n",
        "          'Malaysia' : 'Kuala Lumpur',\n",
        "          'Vietnam' : 'Hanoi',\n",
        "          'Indonesia' : 'Surabaya' #valule baru\n",
        "          }\n",
        "\n",
        "print (cities) #value yang lama diganti dengan value yang baru \n",
        "\n"
      ],
      "execution_count": null,
      "outputs": [
        {
          "output_type": "stream",
          "text": [
            "{'Indonesia': 'Surabaya', 'Thailand': 'Bangkok', 'Malaysia': 'Kuala Lumpur', 'Vietnam': 'Hanoi'}\n"
          ],
          "name": "stdout"
        }
      ]
    },
    {
      "cell_type": "code",
      "metadata": {
        "colab": {
          "base_uri": "https://localhost:8080/"
        },
        "id": "P39JbQMWe8_C",
        "outputId": "c5537d8a-7ff3-46d3-f033-83b3365cfeeb"
      },
      "source": [
        "cities = {'Indonesia' : 'Jakarta', \n",
        "          'Thailand' : 'Bangkok',\n",
        "          'Malaysia' : 'Kuala Lumpur',\n",
        "          'Vietnam' : 'Hanoi',\n",
        "          }\n",
        "\n",
        "if ('Indonesia' in cities):\n",
        "  print ('ada')\n",
        "\n",
        "print(len(cities))"
      ],
      "execution_count": null,
      "outputs": [
        {
          "output_type": "stream",
          "text": [
            "ada\n",
            "4\n"
          ],
          "name": "stdout"
        }
      ]
    }
  ]
}