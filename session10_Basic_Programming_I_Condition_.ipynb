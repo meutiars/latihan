{
  "nbformat": 4,
  "nbformat_minor": 0,
  "metadata": {
    "colab": {
      "name": "session10 Basic Programming I : Condition .ipynb",
      "provenance": [],
      "collapsed_sections": [],
      "authorship_tag": "ABX9TyMUCc1OCmjOFh49rNTc5Ni+",
      "include_colab_link": true
    },
    "kernelspec": {
      "name": "python3",
      "display_name": "Python 3"
    },
    "language_info": {
      "name": "python"
    }
  },
  "cells": [
    {
      "cell_type": "markdown",
      "metadata": {
        "id": "view-in-github",
        "colab_type": "text"
      },
      "source": [
        "<a href=\"https://colab.research.google.com/github/meutiars/latihan/blob/main/session10_Basic_Programming_I_Condition_.ipynb\" target=\"_parent\"><img src=\"https://colab.research.google.com/assets/colab-badge.svg\" alt=\"Open In Colab\"/></a>"
      ]
    },
    {
      "cell_type": "markdown",
      "metadata": {
        "id": "FgYm3SrygwZP"
      },
      "source": [
        "#Session 10"
      ]
    },
    {
      "cell_type": "markdown",
      "metadata": {
        "id": "p6I_CvZ6g20n"
      },
      "source": [
        "#IF statement"
      ]
    },
    {
      "cell_type": "code",
      "metadata": {
        "colab": {
          "base_uri": "https://localhost:8080/"
        },
        "id": "iE749EDtgZbU",
        "outputId": "45a2e3c9-4079-49d5-a88a-3c074e83b3d9"
      },
      "source": [
        "print ('program dimulai')\n",
        "x = 10 \n",
        "\n",
        "if (x < 0):\n",
        "  print ('blok 1 dijalankan')\n",
        "  print ('baris selanjutnya')\n",
        "else: \n",
        "  print('kode di blok 2 dijalankan')\n",
        "\n",
        "print ('program selesai')\n",
        "\n",
        "\n"
      ],
      "execution_count": null,
      "outputs": [
        {
          "output_type": "stream",
          "text": [
            "program dimulai\n",
            "kode di blok 2 dijalankan\n",
            "program selesai\n"
          ],
          "name": "stdout"
        }
      ]
    },
    {
      "cell_type": "code",
      "metadata": {
        "colab": {
          "base_uri": "https://localhost:8080/"
        },
        "id": "aPcZFYFmjeeA",
        "outputId": "77eff7e2-098e-41d3-ee88-a9a866947cf7"
      },
      "source": [
        "nama = 'Dimas'\n",
        "\n",
        "if (nama=='dimas'):\n",
        "  print ('blok 1 dijalankan')\n",
        "\n",
        "else: \n",
        "  print('blok 2 dijalankan')\n",
        "\n",
        "print('end')"
      ],
      "execution_count": null,
      "outputs": [
        {
          "output_type": "stream",
          "text": [
            "blok 2 dijalankan\n",
            "end\n"
          ],
          "name": "stdout"
        }
      ]
    },
    {
      "cell_type": "code",
      "metadata": {
        "colab": {
          "base_uri": "https://localhost:8080/"
        },
        "id": "tzJtidnNks1-",
        "outputId": "11839371-69a8-4334-aa34-7af8f5b9c082"
      },
      "source": [
        "a = 200\n",
        "b = 33\n",
        "\n",
        "if (b>a):\n",
        "  print ('b> a')\n",
        "\n",
        "elif (b==a):\n",
        "  print ('b===a')\n",
        "\n",
        "else:\n",
        "  print('b < a')\n",
        "\n",
        "print ('end')"
      ],
      "execution_count": null,
      "outputs": [
        {
          "output_type": "stream",
          "text": [
            "b < a\n",
            "end\n"
          ],
          "name": "stdout"
        }
      ]
    },
    {
      "cell_type": "code",
      "metadata": {
        "colab": {
          "base_uri": "https://localhost:8080/"
        },
        "id": "eDAvU5V4mIlf",
        "outputId": "9b3cf50a-06ba-424f-c3f5-e443ff106a4c"
      },
      "source": [
        "i = input('Masukan angka ')\n",
        "y = float(i)\n",
        "\n",
        "if (y < 0):\n",
        "  print('bilangan negatif')\n",
        "elif (y==0):\n",
        "  print ('y == 0')\n",
        "else:\n",
        "  print ('bilangan positif')"
      ],
      "execution_count": null,
      "outputs": [
        {
          "output_type": "stream",
          "text": [
            "Masukan angka 15\n",
            "bilangan positif\n"
          ],
          "name": "stdout"
        }
      ]
    },
    {
      "cell_type": "markdown",
      "metadata": {
        "id": "gxcXQv7oqVXR"
      },
      "source": [
        "#Nested IF"
      ]
    },
    {
      "cell_type": "code",
      "metadata": {
        "colab": {
          "base_uri": "https://localhost:8080/"
        },
        "id": "vrwaXQ1rpH1y",
        "outputId": "e357caf3-4ce0-4636-d9c3-6bbb923efe02"
      },
      "source": [
        "x = 24 \n",
        "\n",
        "print('program mulai')\n",
        "\n",
        "if (x > 0) and (x < 5):\n",
        "  print ('umur dibawah 5 tahun')\n",
        "elif (x >= 5) and (x <= 12):\n",
        "    print('anak anak')\n",
        "elif (x > 12) and (x < 20):\n",
        "    print ('remaja')\n",
        "elif (x >= 20):\n",
        "  print ('remaja')\n",
        "else:\n",
        "  print('masukan salah')\n",
        "\n",
        "print ('program selesai')\n"
      ],
      "execution_count": null,
      "outputs": [
        {
          "output_type": "stream",
          "text": [
            "program mulai\n",
            "remaja\n",
            "program selesai\n"
          ],
          "name": "stdout"
        }
      ]
    },
    {
      "cell_type": "code",
      "metadata": {
        "colab": {
          "base_uri": "https://localhost:8080/"
        },
        "id": "ue_RKRQBt1QD",
        "outputId": "009a92c4-fb8c-4e1f-e52e-ccde41f3a3cd"
      },
      "source": [
        "snowing = True \n",
        "raining = False \n",
        "temp = 1\n",
        "\n",
        "if (temp < 0):\n",
        "  print ('cuaca dingin')\n",
        "  if (snowing):\n",
        "    print ('di dalam rumah saja')\n",
        "  if (raining):\n",
        "    print ('pakai payung')\n",
        "if (temp > 0):\n",
        "  print ('cuaca hujan')\n",
        "  if (snowing):\n",
        "    print ('dingin')\n",
        "  if (raining):\n",
        "    print ('basah')\n",
        "  print ('minum kopi hangat')\n",
        "\n",
        "print ('program selesai')"
      ],
      "execution_count": null,
      "outputs": [
        {
          "output_type": "stream",
          "text": [
            "cuaca hujan\n",
            "dingin\n",
            "minum kopi hangat\n",
            "program selesai\n"
          ],
          "name": "stdout"
        }
      ]
    },
    {
      "cell_type": "markdown",
      "metadata": {
        "id": "xMSFZ7OxwM8E"
      },
      "source": [
        "#Short Hand IF"
      ]
    },
    {
      "cell_type": "code",
      "metadata": {
        "colab": {
          "base_uri": "https://localhost:8080/"
        },
        "id": "54XlTjzJvZ_R",
        "outputId": "8a4d99e1-7a90-4ad6-a1af-5fb37beab734"
      },
      "source": [
        "a = 10\n",
        "b = 5\n",
        "\n",
        "print ('a lebih besar dari b') if (a > b) else print ('a lebih kecil dari b')\n",
        " "
      ],
      "execution_count": null,
      "outputs": [
        {
          "output_type": "stream",
          "text": [
            "a lebih besar dari b\n"
          ],
          "name": "stdout"
        }
      ]
    },
    {
      "cell_type": "code",
      "metadata": {
        "colab": {
          "base_uri": "https://localhost:8080/"
        },
        "id": "pzyEe-CQw7xW",
        "outputId": "833b0296-b568-4102-b6c1-a42307d84ccf"
      },
      "source": [
        "umur = 17\n",
        "\n",
        "status = 'remaja' if (umur > 10) and (umur < 20) else 'bukan remaja'\n",
        "\n",
        "print (status)"
      ],
      "execution_count": null,
      "outputs": [
        {
          "output_type": "stream",
          "text": [
            "remaja\n"
          ],
          "name": "stdout"
        }
      ]
    },
    {
      "cell_type": "code",
      "metadata": {
        "colab": {
          "base_uri": "https://localhost:8080/"
        },
        "id": "76PMpu50yFFg",
        "outputId": "843183cd-eac5-4bab-bbad-4d06128490a9"
      },
      "source": [
        "nama = 'Widi' \n",
        "umur = 20 \n",
        "\n",
        "if not (nama == 'Widi') and (umur == 20):\n",
        "  print ('blok pertama dijalankan')\n",
        "else:\n",
        "  print ('blok ke dua dijalankan')\n"
      ],
      "execution_count": null,
      "outputs": [
        {
          "output_type": "stream",
          "text": [
            "blok ke dua dijalankan\n"
          ],
          "name": "stdout"
        }
      ]
    },
    {
      "cell_type": "markdown",
      "metadata": {
        "id": "O5jRzrgwzxAB"
      },
      "source": [
        "#The pass Statement"
      ]
    },
    {
      "cell_type": "code",
      "metadata": {
        "colab": {
          "base_uri": "https://localhost:8080/"
        },
        "id": "uSvR-g8_zvcF",
        "outputId": "dc7b8753-d3f6-4155-b312-d8c2e1edd4b0"
      },
      "source": [
        "a = 10\n",
        "b = 5\n",
        "\n",
        "if (a > b):\n",
        "  pass\n",
        "\n",
        "else:\n",
        "  print('a < b')\n",
        "\n",
        "print('program selesai')"
      ],
      "execution_count": null,
      "outputs": [
        {
          "output_type": "stream",
          "text": [
            "program selesai\n"
          ],
          "name": "stdout"
        }
      ]
    },
    {
      "cell_type": "code",
      "metadata": {
        "colab": {
          "base_uri": "https://localhost:8080/"
        },
        "id": "v5iVUZ271AhB",
        "outputId": "92bf07a8-19da-48dc-8f94-64db12262965"
      },
      "source": [
        "from platform import python_version\n",
        "\n",
        "print (python_version)"
      ],
      "execution_count": null,
      "outputs": [
        {
          "output_type": "stream",
          "text": [
            "<function python_version at 0x7f8c9597e4d0>\n"
          ],
          "name": "stdout"
        }
      ]
    },
    {
      "cell_type": "code",
      "metadata": {
        "colab": {
          "base_uri": "https://localhost:8080/"
        },
        "id": "ljdHTKxf2MgK",
        "outputId": "0073aa1d-e4a0-4a8d-99d3-7bdfcaa43904"
      },
      "source": [
        "var1 = float(input('masukan angka pertama :'))\n",
        "var2 = float(input('Masukan angka kedua :'))\n",
        "var3 = input('Masukan operator : ')\n",
        "\n",
        "if (var3 == '+'):\n",
        "  print ('hasil : *', (var1 + var2))\n",
        "\n",
        "elif (var3 == '-'):\n",
        "  print('hasil : ', (var1 - var2))\n",
        "\n",
        "elif (var3 == '*'): \n",
        "  print ('hasil : ', (var1 * var2))\n",
        "\n",
        "elif (var3 == '/'): \n",
        "  print ('hasil : ', (var1 / var2)) "
      ],
      "execution_count": null,
      "outputs": [
        {
          "output_type": "stream",
          "text": [
            "masukan angka pertama :15\n",
            "Masukan angka kedua :45\n",
            "Masukan operator : 43\n"
          ],
          "name": "stdout"
        }
      ]
    }
  ]
}